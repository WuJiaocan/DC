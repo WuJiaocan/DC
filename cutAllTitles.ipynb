{
 "cells": [
  {
   "cell_type": "markdown",
   "metadata": {},
   "source": [
    "### 1. 连接百度"
   ]
  },
  {
   "cell_type": "code",
   "execution_count": 4,
   "metadata": {},
   "outputs": [],
   "source": [
    "'''\n",
    "    qazyhn\t Qaz123\n",
    "'''\n",
    "\n",
    "from aip import AipNlp\n",
    "\n",
    "APP_ID = '********'\n",
    "API_KEY = '*************'\n",
    "SECRET_KEY = '*************'\n",
    "\n",
    "client = AipNlp(APP_ID, API_KEY, SECRET_KEY)"
   ]
  },
  {
   "cell_type": "markdown",
   "metadata": {},
   "source": [
    "### 2. 加载数据"
   ]
  },
  {
   "cell_type": "code",
   "execution_count": 1,
   "metadata": {},
   "outputs": [
    {
     "name": "stdout",
     "output_type": "stream",
     "text": [
      "108295\n",
      "108295\n"
     ]
    }
   ],
   "source": [
    "count = 0\n",
    "alldata = []\n",
    "with open(\"./all_docs.txt\", \"r\", encoding=\"utf-8\") as data:\n",
    "    for line in data:\n",
    "        line = line.strip()\n",
    "        alldata.append(line)\n",
    "        count += 1 \n",
    "print(count)\n",
    "print(len(alldata))"
   ]
  },
  {
   "cell_type": "code",
   "execution_count": 2,
   "metadata": {},
   "outputs": [],
   "source": [
    "'''\n",
    "    只读取id\n",
    "    只读取title + content\n",
    "    组成一个id：title+\"。\"+content的词典\n",
    "'''\n",
    "train_id_list = []\n",
    "train_title_list = []\n",
    "train_title_content_list = []\n",
    "train_dict = {}  # key = id, value = title+\"。\"+content\n",
    "for line in alldata:\n",
    "    line = line.strip()\n",
    "    if len(line.split(\"\\001\")) == 3:\n",
    "        ids = line.split(\"\\001\")[0]\n",
    "        title = line.split(\"\\001\")[1]\n",
    "        title_content = line.split(\"\\001\")[1] + \"。\" + line.split(\"\\001\")[2]\n",
    "        \n",
    "        train_id_list.append(ids)\n",
    "        train_title_list.append(title)\n",
    "        train_title_content_list.append(title_content)\n",
    "        train_dict[ids] = title_content"
   ]
  },
  {
   "cell_type": "code",
   "execution_count": 3,
   "metadata": {},
   "outputs": [
    {
     "name": "stdout",
     "output_type": "stream",
     "text": [
      "108295\n",
      "108295\n",
      "108295\n",
      "108295\n"
     ]
    }
   ],
   "source": [
    "print(len(train_id_list))\n",
    "print(len(train_title_list))\n",
    "print(len(train_title_content_list))\n",
    "print(len(train_dict))"
   ]
  },
  {
   "cell_type": "markdown",
   "metadata": {},
   "source": [
    "### 3. 将所有的titles分词"
   ]
  },
  {
   "cell_type": "code",
   "execution_count": 5,
   "metadata": {},
   "outputs": [],
   "source": [
    "def cutSentences(text):\n",
    "    \n",
    "    import time\n",
    "    \n",
    "    cutwords = []\n",
    "\n",
    "    if text is None:\n",
    "        return None\n",
    "\n",
    "    result = client.lexerCustom(text)\n",
    "\n",
    "    items = result.get('items', [])\n",
    "    items_size = len(items)\n",
    "\n",
    "    tries_limit = 3\n",
    "    tries_counter = 0\n",
    "    \n",
    "    while items_size == 0: # 分词结果为空\n",
    "        if len(text) != 0: # 但句子长度不为空\n",
    "            time.sleep(1)\n",
    "            result = client.lexerCustom(text)\n",
    "\n",
    "            items = result.get('items', [])\n",
    "            items_size = len(items)\n",
    "\n",
    "        tries_counter += 1\n",
    "\n",
    "        if tries_counter >= tries_limit: # 分词尝试大于等于4次之后仍失败\n",
    "            return None\n",
    "        \n",
    "    restore_idx = 0\n",
    "    \n",
    "#     while restore_idx < items_size: # 对每个分词结果进行整理 \n",
    "    \n",
    "    for dic in items:\n",
    "        if dic['pos'] not in [\"d\", \"m\", \"q\", \"r\", \"p\", \"c\", \"u\", \"xc\", \"w\"]:\n",
    "            cutwords.append(dic['item'])\n",
    "    \n",
    "    return cutwords\n",
    "\n",
    "# d副词\n",
    "# m数量词\tq量词\tr代词\tp介词\n",
    "# c连词\tu助词\txc其他虚词\tw标点符号"
   ]
  },
  {
   "cell_type": "code",
   "execution_count": 6,
   "metadata": {},
   "outputs": [
    {
     "name": "stdout",
     "output_type": "stream",
     "text": [
      "25489\n",
      "can only join an iterable\n"
     ]
    }
   ],
   "source": [
    "import re\n",
    "with open(\"./getAllTitlesCutData.txt\", \"w\", encoding=\"utf-8\") as result:\n",
    "    for num, sent in enumerate(train_title_list): # 每篇文档的title      \n",
    "        sent = sent.encode('gb2312', 'ignore').decode('gb2312').encode('gbk', 'ignore').decode('gbk').strip()\n",
    "        try:\n",
    "            result.write(\" \".join(cutSentences(sent))+\"\\n\")\n",
    "        except Exception as e:\n",
    "            print(num)\n",
    "            print(e)"
   ]
  },
  {
   "cell_type": "code",
   "execution_count": null,
   "metadata": {},
   "outputs": [],
   "source": []
  }
 ],
 "metadata": {
  "kernelspec": {
   "display_name": "Python 3",
   "language": "python",
   "name": "python3"
  },
  "language_info": {
   "codemirror_mode": {
    "name": "ipython",
    "version": 3
   },
   "file_extension": ".py",
   "mimetype": "text/x-python",
   "name": "python",
   "nbconvert_exporter": "python",
   "pygments_lexer": "ipython3",
   "version": "3.6.5"
  }
 },
 "nbformat": 4,
 "nbformat_minor": 2
}
