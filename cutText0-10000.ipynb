{
 "cells": [
  {
   "cell_type": "markdown",
   "metadata": {},
   "source": [
    "### 连接百度API"
   ]
  },
  {
   "cell_type": "code",
   "execution_count": 3,
   "metadata": {},
   "outputs": [],
   "source": [
    "'''\n",
    "    qazyhn\t Qaz123\n",
    "'''\n",
    "\n",
    "from aip import AipNlp\n",
    "\n",
    "APP_ID = '********'\n",
    "API_KEY = '**************'\n",
    "SECRET_KEY = '*****************'\n",
    "\n",
    "client = AipNlp(APP_ID, API_KEY, SECRET_KEY)"
   ]
  },
  {
   "cell_type": "markdown",
   "metadata": {},
   "source": [
    "### 读取数据"
   ]
  },
  {
   "cell_type": "code",
   "execution_count": 4,
   "metadata": {},
   "outputs": [
    {
     "name": "stdout",
     "output_type": "stream",
     "text": [
      "108295\n",
      "108295\n"
     ]
    }
   ],
   "source": [
    "count = 0\n",
    "alldata = []\n",
    "with open(\"./all_docs.txt\", \"r\", encoding=\"utf-8\") as data:\n",
    "    for line in data:\n",
    "        line = line.strip()\n",
    "        alldata.append(line)\n",
    "        count += 1 \n",
    "print(count)\n",
    "print(len(alldata))"
   ]
  },
  {
   "cell_type": "code",
   "execution_count": 5,
   "metadata": {},
   "outputs": [
    {
     "name": "stdout",
     "output_type": "stream",
     "text": [
      "108295\n"
     ]
    }
   ],
   "source": [
    "'''\n",
    "    只读取训练集的title\n",
    "'''\n",
    "train_title_list = []\n",
    "for line in alldata:\n",
    "    line = line.strip()\n",
    "    if len(line.split(\"\\001\")) == 3:\n",
    "        title = line.split(\"\\001\")[1]\n",
    "        train_title_list.append(title)\n",
    "print(len(train_title_list))"
   ]
  },
  {
   "cell_type": "code",
   "execution_count": 6,
   "metadata": {},
   "outputs": [],
   "source": [
    "# train_title_list[8]"
   ]
  },
  {
   "cell_type": "code",
   "execution_count": 7,
   "metadata": {},
   "outputs": [],
   "source": [
    "'''\n",
    "    只读取id\n",
    "    只读取title + content\n",
    "    组成一个id：title+\"。\"+content的词典\n",
    "'''\n",
    "train_id_list = []\n",
    "train_title_content_list = []\n",
    "train_dict = {}  # key = id, value = title+\"。\"+content\n",
    "for line in alldata:\n",
    "    line = line.strip()\n",
    "    if len(line.split(\"\\001\")) == 3:\n",
    "        ids = line.split(\"\\001\")[0]\n",
    "        title_content = line.split(\"\\001\")[1] + \"。\" + line.split(\"\\001\")[2]\n",
    "        \n",
    "        train_id_list.append(ids)\n",
    "        train_title_content_list.append(title_content)\n",
    "        train_dict[ids] = title_content"
   ]
  },
  {
   "cell_type": "code",
   "execution_count": 8,
   "metadata": {},
   "outputs": [
    {
     "name": "stdout",
     "output_type": "stream",
     "text": [
      "108295\n",
      "108295\n",
      "108295\n"
     ]
    }
   ],
   "source": [
    "print(len(train_id_list))\n",
    "print(len(train_title_content_list))\n",
    "print(len(train_dict))"
   ]
  },
  {
   "cell_type": "code",
   "execution_count": 17,
   "metadata": {},
   "outputs": [
    {
     "name": "stdout",
     "output_type": "stream",
     "text": [
      "108295\n"
     ]
    }
   ],
   "source": [
    "titel_weight_10 = []\n",
    "for ti,cont in zip(train_title_list, train_title_content_list):\n",
    "    titel_weight_10.append((str(ti+\"。\"))*10 + str(cont))\n",
    "print(len(titel_weight_10))"
   ]
  },
  {
   "cell_type": "markdown",
   "metadata": {},
   "source": [
    "### 对0-10000文本进行分词，并把分词结果写下来，已加载自定义词典"
   ]
  },
  {
   "cell_type": "code",
   "execution_count": 20,
   "metadata": {},
   "outputs": [],
   "source": [
    "def cutSentences(text):\n",
    "    \n",
    "    import time\n",
    "    \n",
    "    cutwords = []\n",
    "\n",
    "    if text is None:\n",
    "        return None\n",
    "\n",
    "    result = client.lexerCustom(text)\n",
    "\n",
    "    items = result.get('items', [])\n",
    "    items_size = len(items)\n",
    "\n",
    "    tries_limit = 3\n",
    "    tries_counter = 0\n",
    "    \n",
    "    while items_size == 0: # 分词结果为空\n",
    "        if len(text) != 0: # 但句子长度不为空\n",
    "            time.sleep(1)\n",
    "            result = client.lexerCustom(text)\n",
    "\n",
    "            items = result.get('items', [])\n",
    "            items_size = len(items)\n",
    "\n",
    "        tries_counter += 1\n",
    "\n",
    "        if tries_counter >= tries_limit: # 分词尝试大于等于4次之后仍失败\n",
    "            return None\n",
    "        \n",
    "    restore_idx = 0\n",
    "    \n",
    "#     while restore_idx < items_size: # 对每个分词结果进行整理 \n",
    "    \n",
    "    for dic in items:\n",
    "        if dic['pos'] not in [\"d\", \"m\", \"q\", \"r\", \"p\", \"c\", \"u\", \"xc\", \"w\"]:\n",
    "            cutwords.append(dic['item'])\n",
    "    \n",
    "    return cutwords\n",
    "\n",
    "# d副词\n",
    "# m数量词\tq量词\tr代词\tp介词\n",
    "# c连词\tu助词\txc其他虚词\tw标点符号"
   ]
  },
  {
   "cell_type": "code",
   "execution_count": 30,
   "metadata": {},
   "outputs": [
    {
     "name": "stdout",
     "output_type": "stream",
     "text": [
      "227\n",
      "can only join an iterable\n"
     ]
    }
   ],
   "source": [
    "import re\n",
    "with open(\"./getKeyWordsCutData/cutwords_result_1.txt\", \"a\", encoding=\"utf-8\") as result:\n",
    "    for num, sent in enumerate(titel_weight_10[4000:10000]): # 每篇文档      \n",
    "        sent = sent.encode('gb2312', 'ignore').decode('gb2312').encode('gbk', 'ignore').decode('gbk').strip()\n",
    "        try:\n",
    "            result.write(\" \".join(cutSentences(sent))+\"\\n\")\n",
    "        except Exception as e:\n",
    "            print(num)\n",
    "            print(e)"
   ]
  },
  {
   "cell_type": "code",
   "execution_count": 57,
   "metadata": {},
   "outputs": [
    {
     "name": "stdout",
     "output_type": "stream",
     "text": [
      "9999\n"
     ]
    }
   ],
   "source": [
    "with open(\"./getKeyWordsCutData/cutwords_result_1.txt\", \"r\", encoding=\"utf-8\") as t:\n",
    "    tt1 = t.readlines()\n",
    "    print(len(tt1))"
   ]
  },
  {
   "cell_type": "code",
   "execution_count": 59,
   "metadata": {},
   "outputs": [],
   "source": [
    "# tt1[4227]"
   ]
  },
  {
   "cell_type": "code",
   "execution_count": 62,
   "metadata": {},
   "outputs": [],
   "source": [
    "# train_title_content_list[4228]"
   ]
  },
  {
   "cell_type": "code",
   "execution_count": 56,
   "metadata": {},
   "outputs": [],
   "source": [
    "lost_4227 = []\n",
    "for line in titel_weight_10[4227].split(\"。\"):\n",
    "    if line:\n",
    "        line = line.encode('gb2312', 'ignore').decode('gb2312').encode('gbk', 'ignore').decode('gbk').strip()\n",
    "        try:\n",
    "            lost_4227.append(\" \".join(cutSentences(line)))\n",
    "        except Exception as e:\n",
    "            print(num)\n",
    "            print(e)\n",
    "            \n",
    "final_lost_4227 = []\n",
    "for line in lost_4227:\n",
    "    if line:\n",
    "        for word in line.split(\" \"):\n",
    "            final_lost_4227.append(word) "
   ]
  },
  {
   "cell_type": "code",
   "execution_count": 64,
   "metadata": {},
   "outputs": [],
   "source": [
    "tt1.insert(4227, \" \".join(final_lost_4227))"
   ]
  },
  {
   "cell_type": "code",
   "execution_count": 65,
   "metadata": {},
   "outputs": [
    {
     "data": {
      "text/plain": [
       "10000"
      ]
     },
     "execution_count": 65,
     "metadata": {},
     "output_type": "execute_result"
    }
   ],
   "source": [
    "len(tt1)"
   ]
  },
  {
   "cell_type": "code",
   "execution_count": 67,
   "metadata": {},
   "outputs": [],
   "source": [
    "# tt1[4227]"
   ]
  },
  {
   "cell_type": "code",
   "execution_count": 69,
   "metadata": {},
   "outputs": [],
   "source": [
    "# train_title_content_list[4227]"
   ]
  },
  {
   "cell_type": "code",
   "execution_count": null,
   "metadata": {},
   "outputs": [],
   "source": []
  },
  {
   "cell_type": "code",
   "execution_count": 70,
   "metadata": {},
   "outputs": [],
   "source": [
    "with open(\"./getKeyWordsCutData/cutwords_result_1.txt\", \"w\", encoding=\"utf-8\") as t:\n",
    "    for line in tt1:\n",
    "        line = line.strip()\n",
    "        if line:\n",
    "            t.write(line + \"\\n\")"
   ]
  },
  {
   "cell_type": "code",
   "execution_count": 71,
   "metadata": {},
   "outputs": [
    {
     "name": "stdout",
     "output_type": "stream",
     "text": [
      "10000\n"
     ]
    }
   ],
   "source": [
    "with open(\"./getKeyWordsCutData/cutwords_result_1.txt\", \"r\", encoding=\"utf-8\") as t:\n",
    "    print(len(t.readlines()))"
   ]
  }
 ],
 "metadata": {
  "kernelspec": {
   "display_name": "Python 3",
   "language": "python",
   "name": "python3"
  },
  "language_info": {
   "codemirror_mode": {
    "name": "ipython",
    "version": 3
   },
   "file_extension": ".py",
   "mimetype": "text/x-python",
   "name": "python",
   "nbconvert_exporter": "python",
   "pygments_lexer": "ipython3",
   "version": "3.6.5"
  }
 },
 "nbformat": 4,
 "nbformat_minor": 2
}
