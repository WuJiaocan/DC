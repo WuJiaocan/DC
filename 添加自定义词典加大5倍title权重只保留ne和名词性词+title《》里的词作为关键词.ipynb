{
 "cells": [
  {
   "cell_type": "markdown",
   "metadata": {},
   "source": [
    "### 分词结果中，title已经加大5倍"
   ]
  },
  {
   "cell_type": "markdown",
   "metadata": {},
   "source": [
    "### 加载所有数据，写文件是需要用到id"
   ]
  },
  {
   "cell_type": "code",
   "execution_count": 1,
   "metadata": {},
   "outputs": [
    {
     "name": "stdout",
     "output_type": "stream",
     "text": [
      "108295\n",
      "108295\n"
     ]
    }
   ],
   "source": [
    "count = 0\n",
    "alldata = []\n",
    "with open(\"./all_docs.txt\", \"r\", encoding=\"utf-8\") as data:\n",
    "    for line in data:\n",
    "        line = line.strip()\n",
    "        alldata.append(line)\n",
    "        count += 1 \n",
    "print(count)\n",
    "print(len(alldata))"
   ]
  },
  {
   "cell_type": "code",
   "execution_count": 91,
   "metadata": {},
   "outputs": [],
   "source": [
    "'''\n",
    "    只读取id\n",
    "    只读取title + content\n",
    "    组成一个id：title+\"。\"+content的词典\n",
    "'''\n",
    "train_title_list = []\n",
    "train_id_list = []\n",
    "train_title_content_list = []\n",
    "# train_dict = {}  # key = id, value = title+\"。\"+content\n",
    "for line in alldata:\n",
    "    line = line.strip()\n",
    "    if len(line.split(\"\\001\")) == 3:\n",
    "        ids = line.split(\"\\001\")[0]\n",
    "        titles = line.split(\"\\001\")[1]\n",
    "        title_content = line.split(\"\\001\")[1] + \"。\" + line.split(\"\\001\")[2]\n",
    "        \n",
    "        train_id_list.append(ids)\n",
    "        train_title_list.append(titles)\n",
    "        train_title_content_list.append(title_content)\n",
    "#         train_dict[ids] = title_content"
   ]
  },
  {
   "cell_type": "code",
   "execution_count": 92,
   "metadata": {},
   "outputs": [
    {
     "name": "stdout",
     "output_type": "stream",
     "text": [
      "108295\n",
      "108295\n",
      "108295\n"
     ]
    }
   ],
   "source": [
    "print(len(train_id_list))\n",
    "print(len(train_title_content_list))\n",
    "print(len(train_title_list))"
   ]
  },
  {
   "cell_type": "markdown",
   "metadata": {},
   "source": [
    "### 加载所有已经分过词的文本"
   ]
  },
  {
   "cell_type": "code",
   "execution_count": 4,
   "metadata": {},
   "outputs": [],
   "source": [
    "all_data = []\n",
    "import os \n",
    "for file in os.listdir(\"./getNounCutData/\"):\n",
    "    if \"add_lost\" in file:\n",
    "        with open(\"./getNounCutData/\"+file, \"r\", encoding=\"utf-8\") as data:\n",
    "            for line in data:\n",
    "                line = line.strip()\n",
    "                all_data.append(line)"
   ]
  },
  {
   "cell_type": "code",
   "execution_count": 5,
   "metadata": {},
   "outputs": [
    {
     "data": {
      "text/plain": [
       "108295"
      ]
     },
     "execution_count": 5,
     "metadata": {},
     "output_type": "execute_result"
    }
   ],
   "source": [
    "all_data_copy = all_data\n",
    "len(all_data)"
   ]
  },
  {
   "cell_type": "code",
   "execution_count": 35,
   "metadata": {},
   "outputs": [],
   "source": [
    "# train_title_content_list[100000]"
   ]
  },
  {
   "cell_type": "code",
   "execution_count": 36,
   "metadata": {},
   "outputs": [],
   "source": [
    "# all_data[100000]"
   ]
  },
  {
   "cell_type": "markdown",
   "metadata": {},
   "source": [
    "### 加载停用词"
   ]
  },
  {
   "cell_type": "code",
   "execution_count": 6,
   "metadata": {},
   "outputs": [],
   "source": [
    "stop_words_list = []\n",
    "with open(\"./stop_words.utf8\", \"r\", encoding=\"utf-8\") as stopwords:\n",
    "    for line in stopwords:\n",
    "        line = line.strip()\n",
    "        if line:\n",
    "            stop_words_list.append(line)"
   ]
  },
  {
   "cell_type": "code",
   "execution_count": 7,
   "metadata": {},
   "outputs": [
    {
     "data": {
      "text/plain": [
       "1533"
      ]
     },
     "execution_count": 7,
     "metadata": {},
     "output_type": "execute_result"
    }
   ],
   "source": [
    "len(stop_words_list)"
   ]
  },
  {
   "cell_type": "markdown",
   "metadata": {},
   "source": [
    "### 加载《》里的内容"
   ]
  },
  {
   "cell_type": "code",
   "execution_count": 8,
   "metadata": {},
   "outputs": [],
   "source": [
    "# sepcial_title_words = []\n",
    "# with open(\"./user_dict_title.txt\", \"r\", encoding=\"utf-8\") as titlewords:\n",
    "#     for line in titlewords:\n",
    "#         line = line.strip()\n",
    "#         if line:\n",
    "#             sepcial_title_words.append(line)"
   ]
  },
  {
   "cell_type": "code",
   "execution_count": 9,
   "metadata": {},
   "outputs": [
    {
     "data": {
      "text/plain": [
       "4364"
      ]
     },
     "execution_count": 9,
     "metadata": {},
     "output_type": "execute_result"
    }
   ],
   "source": [
    "# len(sepcial_title_words)"
   ]
  },
  {
   "cell_type": "markdown",
   "metadata": {},
   "source": [
    "### 取之前的title的分词结果"
   ]
  },
  {
   "cell_type": "code",
   "execution_count": 15,
   "metadata": {},
   "outputs": [],
   "source": [
    "# all_titles = []\n",
    "# import os \n",
    "# for file in os.listdir(\"./getOriginalCutData//\"):\n",
    "#     if \"txt\" in file:\n",
    "#         with open(\"./getOriginalCutData/\"+file, \"r\", encoding=\"utf-8\") as data:\n",
    "#             for line in data:\n",
    "#                 line = line.strip()\n",
    "#                 all_titles.append(line.split(\"。\")[0])"
   ]
  },
  {
   "cell_type": "code",
   "execution_count": 16,
   "metadata": {},
   "outputs": [
    {
     "data": {
      "text/plain": [
       "108295"
      ]
     },
     "execution_count": 16,
     "metadata": {},
     "output_type": "execute_result"
    }
   ],
   "source": [
    "# len(all_titles)"
   ]
  },
  {
   "cell_type": "code",
   "execution_count": 18,
   "metadata": {},
   "outputs": [
    {
     "data": {
      "text/plain": [
       "'韩国 现 复制 版 张国立 与 关晓彤 ， 网友 ： 竟然 连 人 也 要 抄袭 中国 '"
      ]
     },
     "execution_count": 18,
     "metadata": {},
     "output_type": "execute_result"
    }
   ],
   "source": [
    "# all_titles[10000]"
   ]
  },
  {
   "cell_type": "markdown",
   "metadata": {},
   "source": [
    "### 将titles中出现的《》里的内容作为第一位关键词，如果有"
   ]
  },
  {
   "cell_type": "code",
   "execution_count": 136,
   "metadata": {},
   "outputs": [],
   "source": [
    "first_keywords = []\n",
    "for line in train_title_list:\n",
    "    first_keywords.append(\" \".join(re.findall(r'\\《(.*?)\\》',line)))"
   ]
  },
  {
   "cell_type": "code",
   "execution_count": 164,
   "metadata": {},
   "outputs": [
    {
     "data": {
      "text/plain": [
       "'极度恐慌 生化危机'"
      ]
     },
     "execution_count": 164,
     "metadata": {},
     "output_type": "execute_result"
    }
   ],
   "source": [
    "first_keywords[12672]"
   ]
  },
  {
   "cell_type": "code",
   "execution_count": 137,
   "metadata": {},
   "outputs": [
    {
     "data": {
      "text/plain": [
       "108295"
      ]
     },
     "execution_count": 137,
     "metadata": {},
     "output_type": "execute_result"
    }
   ],
   "source": [
    "len(first_keywords)"
   ]
  },
  {
   "cell_type": "code",
   "execution_count": 142,
   "metadata": {},
   "outputs": [
    {
     "data": {
      "text/plain": [
       "['', '萌妻食神', '', '那年花开月正圆', '', '萌妻食神', '', '战神记', '', '']"
      ]
     },
     "execution_count": 142,
     "metadata": {},
     "output_type": "execute_result"
    }
   ],
   "source": [
    "first_keywords[20:30]"
   ]
  },
  {
   "cell_type": "code",
   "execution_count": 169,
   "metadata": {},
   "outputs": [
    {
     "data": {
      "text/plain": [
       "''"
      ]
     },
     "execution_count": 169,
     "metadata": {},
     "output_type": "execute_result"
    }
   ],
   "source": [
    "first_keywords[86172]"
   ]
  },
  {
   "cell_type": "code",
   "execution_count": 170,
   "metadata": {},
   "outputs": [
    {
     "data": {
      "text/plain": [
       "''"
      ]
     },
     "execution_count": 170,
     "metadata": {},
     "output_type": "execute_result"
    }
   ],
   "source": [
    "first_keywords[102066]"
   ]
  },
  {
   "cell_type": "markdown",
   "metadata": {},
   "source": [
    "### 将分词之后存在于停用词中的词去掉，还有一些乱七八糟的字符，只保留字母和汉字"
   ]
  },
  {
   "cell_type": "code",
   "execution_count": 143,
   "metadata": {},
   "outputs": [],
   "source": [
    "X = all_data"
   ]
  },
  {
   "cell_type": "code",
   "execution_count": 144,
   "metadata": {},
   "outputs": [],
   "source": [
    "def useful_char(uchar):\n",
    "    for char in uchar:\n",
    "        if not is_Chinese(char) and not is_alpha(char):\n",
    "            return False\n",
    "    return True\n",
    "\n",
    "#judge a character is a Chinese Character\n",
    "def is_Chinese(uchar):\n",
    "    if len(uchar) != 1:\n",
    "        raise 'expected a character, but a string found!'\n",
    " \n",
    "    if uchar >= u'\\u4e00' and uchar <= u'\\u9fa5':\n",
    "        return True\n",
    "    else:\n",
    "        return False\n",
    "    \n",
    "#Judge a char is a number\n",
    "def is_digit(uchar):\n",
    "    if len(uchar) != 1:\n",
    "        raise 'expected a character, but a string found!'\n",
    " \n",
    "    if uchar >= u'\\u0030' and uchar<=u'\\u0039':\n",
    "        return True\n",
    "    else:\n",
    "        return False\n",
    "\n",
    "#Judge a char is a alphabet\n",
    "def is_alpha(uchar):\n",
    "    if len(uchar) != 1:\n",
    "        raise 'expected a character, but a string found!'\n",
    " \n",
    "    if (uchar >= u'\\u0041' and uchar<=u'\\u005a') or \\\n",
    "       (uchar >= u'\\u0061' and uchar<=u'\\u007a'):\n",
    "        return True\n",
    "    else:\n",
    "        return False"
   ]
  },
  {
   "cell_type": "code",
   "execution_count": 146,
   "metadata": {},
   "outputs": [],
   "source": [
    "remove_useless_words = []\n",
    "for line in X:\n",
    "    line_result = []\n",
    "    for word in line.split(\" \"):\n",
    "        if word not in stop_words_list and useful_char(word):\n",
    "            line_result.append(word)\n",
    "    remove_useless_words.append(\" \".join(line_result))"
   ]
  },
  {
   "cell_type": "code",
   "execution_count": 147,
   "metadata": {},
   "outputs": [
    {
     "data": {
      "text/plain": [
       "'尾田荣一郎 路飞 理想 孩子 尾田荣一郎 路飞 理想 孩子 尾田荣一郎 路飞 理想 孩子 尾田荣一郎 路飞 理想 孩子 尾田荣一郎 路飞 理想 孩子 尾田荣一郎 路飞 理想 孩子 行部 物 刊 少年 ONEPIECE 知 作者 尾田一郎 振 海王 目指 航海 人气 发行量 故事 规模 海贼王 周刊 少年 JUMP 漫画家 尾田荣一郎 先生 之路 路飞 一伙人 想法 目标 海贼王 旅 高潮 航海 感 新人 漫画 受者 仕事 ONEPIECE 生 言 少 感 JUMP 新人 漫画 获奖者 人员 海贼王 事情 实感 物 息 理由 故事 原因 手 仲集 仲 考 合 少年 海 言 行 物 仲 仲 思 物 仲 角色 伙伴 坏人 伙伴 游戏 剧情 感觉 人与人 关系 少年 海贼吧 故事 伙伴 时间 伙伴 故事 伙伴 尾田 路飞 尾田 先生 心目 理想 子 子供 言 子供 部分 路飞 理想 孩子 孩子们 路飞 路飞 人心 孩子 状态 路飞 地方 读者 角色 助 生 面白 路飞 行人 伊万科夫 冯克雷 大姐 角色 反差感 他们的故事 血 碍事 鬼 巴基 女性 少年者 思 描 思 例 同性 信 角色 女性 人气 漫画 少年 读者 山治 色气 同性 家伙 兄 路飞 哥哥 艾斯 读者 本当 前 反 越 路飞 读者 路飞 故事 长期 普段 味方 死 敌方 我方 面 後 宴 宴 宴 理想 友情 形 最後 宴会 情节 宴会 宴会 宴会 理想 友情 形式 故事 最后 宴会 死後 艾斯 路飞 信息 故事 转机 四皇 必要 成 期 大人 少年 漫画 路飞 四皇 强敌 时间 路飞 行人 时间 路飞 大人 少年 漫画 海王 路飞 梦想 海贼王 世界 生 海王 反面 行 目 助 喜 恩 恩 精神 生 任侠 心 世代 超 思 路飞 海贼王 路飞 武士 精神 任侠 心 昔 映画 世界 菅原文太 海 大将 赤犬 思 任侠 电影 菅原文太 海军 大将 赤犬 原型 菅原文太 日本 演员 无仁义之战 系列 任侠 题材 影视 作品 子供 孩子们 梦想 漫画 主 感 止 受 止 方 漫画 个人 思想 读者 路飞 行人 感触 个人'"
      ]
     },
     "execution_count": 147,
     "metadata": {},
     "output_type": "execute_result"
    }
   ],
   "source": [
    "remove_useless_words[84597]"
   ]
  },
  {
   "cell_type": "markdown",
   "metadata": {},
   "source": [
    "### 自定tfidf"
   ]
  },
  {
   "cell_type": "code",
   "execution_count": 148,
   "metadata": {},
   "outputs": [],
   "source": [
    "import math\n",
    "def train_idf(doc_list):\n",
    "    idf_dic = {}\n",
    "    tt_count = len(doc_list) # 获取整个文档集的长度\n",
    "    \n",
    "    # 在整个文档集中，每个单词出现的次数\n",
    "    for doc in doc_list:\n",
    "        for word in set(doc.split(\" \")):\n",
    "            idf_dic[word] = idf_dic.get(word, 0.0) + 1.0\n",
    "    \n",
    "    # 按公式计算idf值，分母加1平滑处理\n",
    "    for k,v in idf_dic.items():\n",
    "        idf_dic[k] = math.log(tt_count / (v+1.0))\n",
    "    \n",
    "    # 没在字典中的字，默认仅在一个文档中出现\n",
    "    default_idf = math.log(tt_count / 1.0)\n",
    "    \n",
    "    return idf_dic, default_idf"
   ]
  },
  {
   "cell_type": "code",
   "execution_count": 149,
   "metadata": {},
   "outputs": [],
   "source": [
    "# 统计tf值\n",
    "def train_tf(word_list):\n",
    "    tf_dic = {}\n",
    "    for word in word_list.split(\" \"):\n",
    "        tf_dic[word] = tf_dic.get(word, 0.0) + 1.0\n",
    "    tt_count = len(word_list.split(\" \"))\n",
    "    for k,v in tf_dic.items():\n",
    "        tf_dic[k] = float(v) / tt_count\n",
    "    return tf_dic"
   ]
  },
  {
   "cell_type": "code",
   "execution_count": 150,
   "metadata": {},
   "outputs": [],
   "source": [
    "# 按公式计算tf-idf\n",
    "\n",
    "# idf_dic, default_idf = train_idf(doc_list)\n",
    "\n",
    "def get_tfidf(word_list):\n",
    "    \n",
    "    from functools import reduce\n",
    "    \n",
    "    tf_dic = train_tf(word_list)\n",
    "    \n",
    "    keyword = []\n",
    "    tfidf_dic = {}\n",
    "    \n",
    "    for word in word_list.split(\" \"):\n",
    "        \n",
    "        idf = idf_dic.get(word, default_idf)\n",
    "        tf = tf_dic.get(word, 0)\n",
    "        \n",
    "        tfidf = tf * idf\n",
    "        tfidf_dic[word] = tfidf\n",
    "\n",
    "    for k,v in sorted(tfidf_dic.items(), key=lambda x : x[1], reverse=True)[:10]:\n",
    "        keyword.append(k)\n",
    "        \n",
    "    return reduce(lambda x,y:x+\" \"+y ,keyword)\n",
    "\n",
    "    print()"
   ]
  },
  {
   "cell_type": "code",
   "execution_count": 151,
   "metadata": {},
   "outputs": [],
   "source": [
    "final_keywords = []\n",
    "\n",
    "idf_dic, default_idf = train_idf(remove_useless_words)\n",
    "\n",
    "for line in remove_useless_words:\n",
    "    final_keywords.append(get_tfidf(line))"
   ]
  },
  {
   "cell_type": "code",
   "execution_count": 152,
   "metadata": {},
   "outputs": [
    {
     "data": {
      "text/plain": [
       "108295"
      ]
     },
     "execution_count": 152,
     "metadata": {},
     "output_type": "execute_result"
    }
   ],
   "source": [
    "len(final_keywords)"
   ]
  },
  {
   "cell_type": "code",
   "execution_count": 153,
   "metadata": {},
   "outputs": [],
   "source": [
    "top2_final_keywords = []\n",
    "\n",
    "for line in final_keywords:\n",
    "    line_keywords = []\n",
    "    for word in line.split(\" \"):\n",
    "        if len(word) == 1:        # 长度只为1的字符\n",
    "            continue\n",
    "\n",
    "        if len(line_keywords)==2:\n",
    "            break\n",
    "        else:\n",
    "            line_keywords.append(word)\n",
    "        \n",
    "    top2_final_keywords.append(\",\".join(line_keywords))"
   ]
  },
  {
   "cell_type": "code",
   "execution_count": 154,
   "metadata": {},
   "outputs": [
    {
     "data": {
      "text/plain": [
       "108295"
      ]
     },
     "execution_count": 154,
     "metadata": {},
     "output_type": "execute_result"
    }
   ],
   "source": [
    "len(top2_final_keywords)"
   ]
  },
  {
   "cell_type": "code",
   "execution_count": 156,
   "metadata": {},
   "outputs": [
    {
     "data": {
      "text/plain": [
       "'好时节,玉米排骨汤'"
      ]
     },
     "execution_count": 156,
     "metadata": {},
     "output_type": "execute_result"
    }
   ],
   "source": [
    "top2_final_keywords[102067]"
   ]
  },
  {
   "cell_type": "code",
   "execution_count": 168,
   "metadata": {},
   "outputs": [
    {
     "name": "stdout",
     "output_type": "stream",
     "text": [
      "86172,\n",
      "102066,\n"
     ]
    }
   ],
   "source": [
    "for num,i in enumerate(top2_final_keywords):\n",
    "    if i == \"\":\n",
    "        print(str(num) +\",\" + i)"
   ]
  },
  {
   "cell_type": "code",
   "execution_count": 176,
   "metadata": {},
   "outputs": [],
   "source": [
    "# list(set(1,2,2,3))[:2]"
   ]
  },
  {
   "cell_type": "markdown",
   "metadata": {},
   "source": [
    "### 《》里的词与按tdidf筛出来的词合并"
   ]
  },
  {
   "cell_type": "code",
   "execution_count": 241,
   "metadata": {},
   "outputs": [
    {
     "name": "stdout",
     "output_type": "stream",
     "text": [
      "['b', 'c', 'd', 'a']\n"
     ]
    }
   ],
   "source": [
    "l1 = ['b','c','d','b','c','a','a']\n",
    "l2 = list(set(l1))\n",
    "l2.sort(key=l1.index)\n",
    "print(l2)"
   ]
  },
  {
   "cell_type": "code",
   "execution_count": 253,
   "metadata": {},
   "outputs": [
    {
     "name": "stdout",
     "output_type": "stream",
     "text": [
      "['b', 'd', 'a', 'c']\n"
     ]
    }
   ],
   "source": [
    "l1 = ['b','c','d','b','c','a','a']\n",
    "l2 = list(set(l1))\n",
    "print(l2)"
   ]
  },
  {
   "cell_type": "code",
   "execution_count": 256,
   "metadata": {},
   "outputs": [
    {
     "name": "stdout",
     "output_type": "stream",
     "text": [
      "['b', 'c', 'd', 'a']\n"
     ]
    }
   ],
   "source": [
    "l1 = ['b','c','d','b','c','a','a']\n",
    "l2 = sorted(set(l1),key=l1.index)\n",
    "print(l2)"
   ]
  },
  {
   "cell_type": "code",
   "execution_count": 264,
   "metadata": {},
   "outputs": [],
   "source": [
    "final_top2_keywords = []\n",
    "\n",
    "for i,j in zip(first_keywords,top2_final_keywords):\n",
    "    line_result = []\n",
    "    for w in i.split(\" \")+j.split(\",\"):\n",
    "        if w:\n",
    "            line_result.append(w)\n",
    "#     print(line_result)\n",
    "\n",
    "    if len(line_result) >= 2:\n",
    "        final_top2_keywords.append(\",\".join(sorted(set(line_result), key=line_result.index)[:2]))\n",
    "    else:\n",
    "        final_top2_keywords.append(\",\".join(line_result))"
   ]
  },
  {
   "cell_type": "code",
   "execution_count": 265,
   "metadata": {},
   "outputs": [
    {
     "data": {
      "text/plain": [
       "108295"
      ]
     },
     "execution_count": 265,
     "metadata": {},
     "output_type": "execute_result"
    }
   ],
   "source": [
    "len(final_top2_keywords)"
   ]
  },
  {
   "cell_type": "code",
   "execution_count": 266,
   "metadata": {},
   "outputs": [
    {
     "data": {
      "text/plain": [
       "['陈若仪,睫毛',\n",
       " '杨幂,小s',\n",
       " '蓝洁瑛,生日',\n",
       " '霍建华,林心如',\n",
       " '姚莹莹,TVB',\n",
       " '塞娅公主,范冰冰',\n",
       " '周迅,周冬雨',\n",
       " '张杰,谢娜',\n",
       " '杨幂,大幂幂',\n",
       " '杨幂,男装']"
      ]
     },
     "execution_count": 266,
     "metadata": {},
     "output_type": "execute_result"
    }
   ],
   "source": [
    "final_top2_keywords[0:10]"
   ]
  },
  {
   "cell_type": "code",
   "execution_count": 267,
   "metadata": {},
   "outputs": [
    {
     "data": {
      "text/plain": [
       "['蒋怡,吴彦祖',\n",
       " '卫生间门,俞灏明',\n",
       " '花娇,林志玲',\n",
       " '主持人,何炅',\n",
       " '沈春阳,小沈阳',\n",
       " '陈冠希,滚君',\n",
       " '陈婷,张艺谋',\n",
       " '模特,刘雯',\n",
       " '三生三世,白浅',\n",
       " '漫画,发展史']"
      ]
     },
     "execution_count": 267,
     "metadata": {},
     "output_type": "execute_result"
    }
   ],
   "source": [
    "final_top2_keywords[10:20]"
   ]
  },
  {
   "cell_type": "code",
   "execution_count": 268,
   "metadata": {},
   "outputs": [
    {
     "data": {
      "text/plain": [
       "['吴卓林,Andi',\n",
       " '萌妻食神,狗神',\n",
       " '王珞丹,孙怡',\n",
       " '那年花开月正圆,周莹',\n",
       " '张小斐,名媛',\n",
       " '萌妻食神,种田文',\n",
       " '鞠婧,裙子',\n",
       " '战神记,铁木真',\n",
       " '张翰,湖南卫视',\n",
       " '谭松韵,笑容']"
      ]
     },
     "execution_count": 268,
     "metadata": {},
     "output_type": "execute_result"
    }
   ],
   "source": [
    "final_top2_keywords[20:30]"
   ]
  },
  {
   "cell_type": "code",
   "execution_count": 269,
   "metadata": {},
   "outputs": [],
   "source": [
    "with open(\"./example_ne_or_n_add_《》_title_weight5.csv\", \"w\", encoding=\"utf-8\") as data:\n",
    "    data.write(\"id\" + \",\" + \"label1\" + \",\" + \"label2\" + \"\\n\")\n",
    "    for ids, words in zip(train_id_list, final_top2_keywords):\n",
    "        data.write(str(ids) + \",\" + str(words) + \"\\n\")"
   ]
  },
  {
   "cell_type": "code",
   "execution_count": 270,
   "metadata": {},
   "outputs": [
    {
     "name": "stdout",
     "output_type": "stream",
     "text": [
      "8636   D008636,你好,之华,岩井俊二\n",
      "\n",
      "19146   D019146,林允\n",
      "\n",
      "21348   D021348,阿拉蕾\n",
      "\n",
      "27539   D027539,陈意涵\n",
      "\n",
      "27638   D027638,思索,4色,预告\n",
      "\n",
      "74066   D074066,方法\n",
      "\n",
      "75792   D075792,学士服\n",
      "\n",
      "76716   D076716,壁纸\n",
      "\n",
      "82711   D082711,漫画\n",
      "\n",
      "82794   D082794,漫画\n",
      "\n",
      "82803   D082803,作者\n",
      "\n",
      "85936   D085936,萌宠\n",
      "\n",
      "86173   D086173,\n",
      "\n",
      "86271   D086271,喵喵\n",
      "\n",
      "86983   D086983,表情帝猫咪\n",
      "\n",
      "87215   D087215,喵星人\n",
      "\n",
      "87264   D087264,哈士奇\n",
      "\n",
      "87268   D087268,喵星人\n",
      "\n",
      "87886   D087886,蓝星\n",
      "\n",
      "88088   D088088,喵星人\n",
      "\n",
      "99252   D099252,铲屎\n",
      "\n",
      "102067   D102067,\n",
      "\n"
     ]
    }
   ],
   "source": [
    "with open(\"./example_ne_or_n_add_《》_title_weight5.csv\", \"r\", encoding=\"utf-8\") as data:\n",
    "    result = data.readlines()\n",
    "    for num, line in enumerate(result):\n",
    "        line = line.strip()\n",
    "        if len(line.split(\",\")) != 3:\n",
    "            print(str(num) + \"   \" + line+\"\\n\")"
   ]
  },
  {
   "cell_type": "code",
   "execution_count": null,
   "metadata": {},
   "outputs": [],
   "source": [
    "all_data[27638]"
   ]
  },
  {
   "cell_type": "code",
   "execution_count": 273,
   "metadata": {},
   "outputs": [
    {
     "data": {
      "text/plain": [
       "'岩井俊二 周迅 陈可辛 尹川 迅哥儿 书信 海报 官 睦睦 阵容'"
      ]
     },
     "execution_count": 273,
     "metadata": {},
     "output_type": "execute_result"
    }
   ],
   "source": [
    "final_keywords[8635]"
   ]
  },
  {
   "cell_type": "code",
   "execution_count": 74,
   "metadata": {},
   "outputs": [
    {
     "data": {
      "text/plain": [
       "'100个炒菜做饭技巧，40年大厨精心总结，收藏起来，轻松增长厨艺。1、淘米：米里含有维生素和无机盐，它们易溶于水。要是淘米时间太长，还使劲搓洗米，米的表层营养全会都丢失！而米的营养还主要就在表层。所以淘米时不要用流水和热水淘米，不使劲搓和搅和，不要用水泡着米，淘的时候少用水。2、煮饭：正确的煮饭方法应该是用开水煮。这是因为开水煮饭可以缩短蒸煮时间，减少米中的维生素被破坏。淀粉颗粒不溶于冷水，只有水温在60℃以上，淀粉才会吸收水分膨胀、破裂，变成糊状。大米含有大量淀粉，用开水煮饭时，温度约为100℃(水的沸点)，这样的温度能使米饭快速熟透。3、陈米也可蒸出新米的味道。就是在锅里加入少量的精盐或花生油，记住花生油必须烧熟的，而且是晾凉的。只要在锅里加入少许就可以。4、米饭防馊。夏季，米饭很容易变馊。若在蒸米饭时，按1.5公斤米加2-3毫升醋的比例放些食醋，可使米饭易于存放和防馊，而且蒸出来的米饭并无酸味，相反饭香更浓。5、米粒不沾锅的方法：蒸完米饭的锅，粘上米粒后不容易清洗。蒸饭时，在米里加几滴食用油，蒸好的米饭就不会粘在锅上。6、煮稀饭不溢锅的方法：煮稀饭时，在锅里滴几滴香油，等开锅后把火调小一些，就不会发生溢锅的问题。7、煮饭时，把饭烧糊了，别着急，有法可帮你轻松除去糊味:将8-10厘米长的葱洗净，插入饭中，盖严锅盖，片刻糊味即除。8、蒸隔日的剩饭，水中加少量盐水，可除掉异味。9、煮粥：煮粥方法是煮和焖。即先用旺火煮至滚开，再改用小火，将粥汤慢慢收至稠浓。粥不可离火。焖法是指用旺火加热至滚沸后，倒入有盖的木桶内，盖紧桶盖，焖约2小时即成。此法做出来的粥香味更加醇正、浓厚。10、煮粥时，应注意水要一次加足，煮粥一气呵成，才能达到米水交融、柔腻如一的特点。不要中途加冷水。11、熬粥或煮豆时不要放碱，否则会破坏米、豆中的营养物质。12、将绿豆在铁锅中炒10分钟再煮能很快煮烂，但注意不要炒焦。忌高温长时间煮绿豆：因绿豆中的单宁，在高温下遇铁会生成黑色的单宁铁，使绿豆汤汁变黑，有特殊气味，不但影响食欲、味道，而且对人体有害。13、蒸馒头时掺入少许桔皮丝，可使馒头增加清香。14、蒸馒头碱放多了起黄，如在原蒸锅水里加醋2-3汤匙，再蒸10-15分钟可变白。15、煮水饺时，在水里放一颗大葱或在水开后加点盐，再放饺子，饺子味道鲜美不粘连；在和面时，每500克面粉加拌一个鸡蛋，饺子皮挺刮不粘连。16、煮水饺时，在锅中加少许食盐，锅开时水也不外溢。17、面条时加一小汤匙食油，面条不会沾连，并可防止面汤起泡沫、溢出锅外。煮面条时，在锅中加少许食盐，煮出的面条不易烂糊。18、在春卷的拌馅中适量加些面粉，能避免炸制过程中馅内菜汁流出糊锅底的现象。19、将少量明矾和食盐放入清水中，把切开的生红薯浸入十几分钟，洗净后蒸煮，可防止或减轻腹胀。20、做馒头时，如果在发面里揉进一小块猪油，蒸出来的馒头不仅洁白、松软，而且味香。21、炒菜时应先把锅烧热，再倒入食油，然后再放菜。22、炒蔬菜如何保持鲜绿蔬菜的叶绿素中含有镁，这种物质在做菜时会被蔬菜的另一种物质——有机酸(内含氢离子)替代出来，生成一种黄绿色的物质。如果一开始把锅盖得严严的，就会褪色发黄。如果先炒或煮一下，让这种物质受热先发挥出来，再盖好锅盖，就不会使叶绿素受酸的作用而变黄了。23、若为了美观，可在烹调时稍加些小苏打或碱面，能使蔬菜的颜色更加鲜艳透明。24、炒茄子时，在锅里放点醋，炒出的茄子颜色不会变黑25、炒土豆时加醋，可避免烧焦，又可分解土豆中的毒素，并使色、味相宜26、炒豆芽时，先加点黄油，然后再放盐，能去掉豆腥味27、炒菠菜时不宜加盖。油热倒入菠菜煸炒，煸炒至全部变色，加适量盐，加适量味精调味，翻炒即成。28、烧茄子不吸油：炸茄子前，在茄子块上撒一些干面粉，这样炸出来的茄子吸油少，而且颜色金黄好看。29、切西红柿不流汁：切西红柿时，从西红柿的蒂部沿着几条凹槽切下去，这样下刀的位置在瓤与瓤之间，不会让西红柿汁流出来。30、炸土豆之前，先把切好的土豆片放在水里煮一会儿，使土豆皮的表面形成一层薄薄的胶质层，然后再用油炸。31、西红柿巧去皮：在西红柿的底部插一个叉子，放在火上烤10秒钟，外皮就会开裂，再冷却几秒钟就能轻松将外皮撕下去。32、煮海带时加几滴醋易烂；放几棵波菜也行。33、用开水煮新笋容易熟，且松脆可口；要使笋煮后不缩小，可加几片薄荷叶或盐。34、烧豆腐时，加少许豆腐乳或汁，味道芳香。35、花生米用油炸熟，盛入盘中，趁热撒上少许白酒，稍凉后再撒上少许食盐，放置几天几夜都稣脆如初。36、泡菜坛中放十几粒花椒或少许麦芽糖，可防止产生白花。37、放有辣椒的菜太辣时或炒辣椒时加点醋，辣味大减。38、烹调时，放酱油若错倒了食醋，可撒放少许小苏打，醋味即可消除。39、菜太酸，将一只松花蛋捣烂放入。40、菜太辣，放一只鸡蛋同炒。41、菜太辣，放些醋可减低辣味。42、菜太苦，滴入少许白醋。43、汤太咸又不宜兑水时，可放几块豆腐或土豆或几片蕃茄到汤中；也可将一把米或面粉用布包起来放入汤中44、汤太腻，将少量紫菜在火上烤一下，然后撒入汤中。45、菜籽油有一股异味，可把油烧热后投入适量生姜、蒜、葱、丁香、陈皮同炸片刻，油即可变香。46、用菜油炸一次花生米就没有怪味了，炒出的菜肴香味可口，并可做凉拌菜47、菜馅不出汤：把菜切好后放入盆里，倒上少许食用油，拌均匀，再把切好的肉馅、调料拌进去。菜被一层油脂包裹，遇到盐等调料就不容易出汤。48、大火炒菜，小火煮菜。维生素C、B1都怕热、怕煮。据测定：急火快炒的菜，维生素C损失仅17%；若炒后再煮，菜里的维生素C将损失59%。所以如果是炒菜要用旺火。如果是煮菜，则用小火。开煮前菜里加少许醋，有利于维生素的保存。49、大蒜快速去皮：将整头大蒜的根部切下去一点，然后放在微波炉里高火打10秒钟，拿出来后在尖头部位轻轻一捏，整瓣蒜就出来了。50、快速发木耳：把木耳或银耳放在可微波加热的碗中，倒入凉水，然后把碗放进微波炉高火打三四分钟，木耳就泡发好了。如果做凉拌木耳，也无需再焯烫。51、炒肉菜时放盐过早熟得慢，宜在将熟时加盐，在出锅前再加上几滴醋，鲜嫩可口。52、做滑炒肉片或辣子肉丁，按50克肉5克淀粉的比例上浆，成菜鲜嫩味美53、炖肉时，在锅里加上几块桔皮，可除异味和油腻并增加汤的鲜味54、煮骨头汤时加一小匙醋，可使骨头中的磷、钙溶解于汤中，并可保存汤中的维生素。55、煮肉汤或排骨汤时，放入几块新鲜桔皮，不仅味道鲜美，还可减少油腻感。56、熬小米粥时开水下锅：大家的普遍共识都是冷水煮粥，而真正的行家里手却是用开水煮粥，为什么?你肯定有过冷水煮粥糊底的经验吧?开水下锅就不会有此现象，而且它比冷水熬粥更省时间。57、熬小米粥点油：煮粥还要放油?是的，粥改文火后约10分钟时点入少许色拉油，你会发现不光成品粥色泽鲜亮，而且入口别样鲜滑。58、和面时可加少许盐，可促使酵母菌更快繁殖，产生二氧化碳更多，蒸出的馒头松软有劲，香甜可口，也可加点啤酒，效果更好。59、煮火腿之前，将火腿皮上涂些白糖，容易煮烂，味道更鲜美。60、炸猪排时，在有筋的地方割2-3个切口，炸出来的猪排就不会收缩。61、猪肚煮熟后，切成长块，放在碗内加一些鲜汤再蒸一会儿，猪肚便会加厚一倍。62、煮猪肚时，千万不能先放盐，等煮熟后吃时再放盐，否则猪肚会缩得象牛筋一样硬。63、做肉饼和肉丸子时，一公斤肉馅放2小匙盐。64、做丸子按50克肉10克淀粉的比例调制，成菜软嫩65、煮咸肉：用十几个钻有许多小孔的核桃同煮，可消除臭味66、羊肉去膻味：将萝卜块和羊肉一起下锅，半小时后取出萝卜块；放几块桔子皮更佳；每公斤羊肉放绿豆5克，煮沸10分钟后，将水和绿豆一起倒出；放半包山楂片；将带壳的核桃两三个洗净打孔放入；1公斤羊肉加咖喱粉10克；1公斤羊肉加剖开的甘蔗200克；1公斤水烧开，加羊肉1公斤、醋50克，煮沸后捞出，再重新加水加调料。67、煮牛肉：为了使牛肉炖得快，炖得烂，加一小撮茶叶(约为泡一壶茶的量，用纱布包好)同煮，肉很快就烂且味道鲜美。68、煮牛肉和其他韧、硬肉类以及野味禽类时，加点醋可使其软化。69、红烧牛肉时，加少许雪里红，肉味鲜美。70、炒牛肉丝：切好，用盐、糖、酒、生粉(或鸡蛋)拌一下，加上生油泡腌，30分钟后再炒，鲜嫩可口71、肉丝切好后放在小苏打溶液里浸一下再炒，特别疏松可口不论做什么糖醋菜肴，只要按2份糖1份醋的比例调配，便可做到甜酸适度72、炸完食物后的油留下一些残渣并变得混浊，可将白萝卜切成厚圆片，用筷子把萝卜戳几个洞，放入剩油中炸，残渣会附着在萝卜片上，取出清除残渣，再反复放入锅中炸，混浊的油可变清澈73、熬猪油：在电饭褒内放一点水或植物油，然后放入猪板油或肥肉，接通电源后，能自动将油炼好，溅油，不糊油渣，油质清纯74、油炸食物时，锅里放少许食盐，油不会外溅75、牛奶煮糊了，放点盐，冷却后味道更好76、当锅内温度达到最高时加入料酒，易使酒蒸发而去除食物中的腥味77、炒肉片：肉切成薄片加酱油、黄油、淀粉，打入一个鸡蛋，拌匀，炒散；等肉片变色后，再加佐料稍炒几下，肉片味美、鲜嫩78、炒肉菜时放盐过早熟得慢，宜在将熟时加盐，在出锅前再加上几滴醋，鲜嫩可口79、做红烧肉前，先用少许硼砂把肉腌一下，烧出来的肉肥而不腻，甘香可口80、煎鸡蛋时，在平底锅放足油，油微热时蛋下锅，鸡蛋慢慢变熟，外观美，不粘锅。81、煎鸡蛋时，在热油中撒点面粉，蛋会煎得黄亮好看，油也不易溅出锅外82、将鸡肉先腌一会儿，封上护膜放入冰箱，待炸时再取出，炸出的鸡肉酥脆可口83、炖老鸡：在锅内加二三十颗黄豆同炖，熟得快且味道鲜；或在杀老鸡之前，先灌给鸡一汤匙食醋，然后再杀，用文火煮炖，就会煮得烂熟；或放3-4枚山楂，鸡肉易烂84、老鸡鸭用猛火煮，肉硬不好吃；如果先用凉水和少许食醋泡上2小时，再用微火炖，肉就会变得香嫩可口85、烧鸭子时，把鸭子尾端两侧的臊豆去掉，味道更美86、炖老鸭：在锅里放几个田螺容易烂熟87、煮鸡蛋时在水中倒点醋或盐，可以防止鸡蛋破壳，煮熟冷却后壳也容易剥88、炖鸡：洗净切块，倒入热油锅内翻炒，待水分炒干时，倒入适量香醋，再迅速翻炒，至鸡块发出劈劈啪啪的爆响声时，立即加热水(没过鸡块)，再用旺火烧十分钟，即可放入调料，移小火上再炖20分钟，淋上香油即可出锅；应在汤炖好后，温度降至80～90摄氏度时或食用前加盐。因为鸡肉中含水分较高，炖鸡先加盐，鸡肉在盐水中浸泡，组织细胞内水分向外渗透，蛋白质产生凝固作用，使鸡肉明显收缩变紧，影响营养向汤内溶解，且煮熟后的鸡肉趋向硬、老，口感粗糙。89、用羊油炒鸡蛋，味香无异味90、炒鸡蛋时加入少量的砂糖，会使蛋白质变性的凝固温度上升，从而延缓了加热时间，加上砂糖具有保水性，因而可使蛋制品变得膨松柔软91、炒鸡蛋时加入几滴醋，炒出的蛋松软味香92、煎荷包蛋时，在蛋黄即将凝固之际浇一点冷开水，会使蛋又黄又嫩93、冻鱼放奶烧。烹制长时间放在冰箱里的鱼时，可适当在汤中放些鲜奶增加鱼鲜味。鱼从冰箱里取出后，最好自然化冻，也可放在置有少许盐的容器中解冻，目的在于冻鱼肉中的蛋白质遇盐会慢慢凝固，防止其中液体流失，而失去营养。94、蒸鱼用开水。蒸鱼时先将锅内水烧开，再蒸鱼，切忌用冷水蒸。因为鱼在突遇高温时，外部组织凝固，可锁住内部鲜汁。蒸前最好在鱼身上洒一些鸡油或猪油，可使鱼肉更加滑嫩。还可以封上保鲜膜，防止鱼的鲜味跑掉或滴上蒸锅水冲淡鱼的味道。95、去腥晚放姜。烧鱼时有人喜欢把姜与鱼一起下锅，认为这样可去除鱼腥。其实不然，过早放姜会使得鱼体浸出蛋白质阻碍生姜的去腥效果。可以先把鱼在锅里煮一会儿，待蛋白质凝固后再放姜；也可在爆锅时烹入少量醋和料酒，起到去腥解腻增香的作用。如果还是觉着有腥味，出锅前撒上点蒜末，效果非常好，特别是烹制长时间冰冻的鱼。96、煎鱼防粘锅。可在烧热的锅里放油后再撒些盐，也可净锅后用生姜把锅擦一遍。还可把锅烧的热一点，油温高一点，再放入鱼，鱼遇到高油温表皮会立即变硬，不会粘锅，然后再改用小火把鱼煎透。97、烧鱼防肉碎。在做红烧鱼前，先在锅里把鱼煎透或炸透，油量要大，油温要高。烧鱼时汤不宜过多，一般以水没过鱼为度。不要翻动鱼身，烧制过程中，用勺将汤汁不断浇淋在鱼身上，这样即使鱼肉入味，还可以保持鱼的原形。98、宰鱼碰破了苦胆怎样除苦味？宰鱼时如果碰破了苦胆，全肉会发苦。鱼胆不但有苦味，而且有毒。用酒、小苏达或发酵粉可以使胆汁溶解。因此，在沾了胆汁的鱼肉上涂些酒、小苏达或发酵粉，再用冷水冲洗，苦味便可消除。99、炒糖醋鱼、糖醋菜帮等，应先放糖，后放盐，否则食盐的“脱水”作用会促进菜肴中蛋白质凝固而“吃”不进糖分，造成外甜里淡100、煎鱼不破皮：将鱼清洗干净后，两面用纸巾擦干，拍上少许干淀粉，等油烧热后再放入鱼，先不要晃动，等一面完全煎好再翻面。这样煎出的鱼，鱼皮很完整。'"
      ]
     },
     "execution_count": 74,
     "metadata": {},
     "output_type": "execute_result"
    }
   ],
   "source": [
    "train_title_content_list[102066]"
   ]
  },
  {
   "cell_type": "code",
   "execution_count": 48,
   "metadata": {},
   "outputs": [
    {
     "data": {
      "text/plain": [
       "'发布 官 宣 海报 阵容 超 豪华 周迅 陈可辛 岩井俊二 之前 一定 风声 周迅 主演 岩井俊二 华语 电影 昨天 发布 官方 物料 海报 主角 导演 岩井俊二 监制 陈可辛 主演 周迅 三个人 相当 质感 迅哥儿 脸 一如既往 电影感 故事感 三位 大佬 海边 行走 相当 酷炫 前 片 第一波 宣传 中国 版 情书 目前 电影 简介 来看 一定 差别 故事 情书 起来 明显 会 更 复杂 一点 沿用 书信 设置 看似 平静 生活 实 藏 影影绰绰 暗涌 姐姐 南 去世 留下 一封 遗书 一张 同学会 邀请函 姐姐 长相 酷似 妹妹 华 南 参加 同学会 意外 遇到 姐姐 昔日 初恋 尹川 重新 揭开 南 华 尹川 之间 不曾 外人 知 没有 一段 纠结 往事 之华 姐姐 口吻 曾经 暗恋 尹川 建立 书信 联系 尹川 阴差阳错 信 寄 回 南 生前 居所 南 女儿 睦睦 意外 获得 睦睦 联合 堂妹 飒然 假借 母亲 口吻 神秘 来往 书信 试图 去了解 母亲 过去 之华 意外 卷入 婆婆 一段 夕阳 情愫 之中 三代 感情 纠葛 轻薄 书信 纠缠 一起 片 演员 周迅 公认 演技 不错 张子枫 之前 相爱相亲 里 极佳 表现 老戏骨 吴彦姝 说起来 迅哥儿 一次 陈可辛 合作 如果爱 周迅 这部 片子 拿到 当年 金马奖 最佳女主角 金像奖 最佳女主角 配置 来看 应该 也是 颁奖 礼 会 青睐 文艺片 类型 迅哥儿 提 影 有望 咯 责任 编辑 发布 官 宣 海报 阵容 超 豪华 周迅 陈可辛 岩井俊二 发布 官 宣 海报 阵容 超 豪华 周迅 陈可辛 岩井俊二 发布 官 宣 海报 阵容 超 豪华 周迅 陈可辛 岩井俊二 发布 官 宣 海报 阵容 超 豪华 周迅 陈可辛 岩井俊二 发布 官 宣 海报 阵容 超 豪华 周迅 陈可辛 岩井俊二 '"
      ]
     },
     "execution_count": 48,
     "metadata": {},
     "output_type": "execute_result"
    }
   ],
   "source": [
    "remove_useless_words[8635]"
   ]
  },
  {
   "cell_type": "code",
   "execution_count": null,
   "metadata": {},
   "outputs": [],
   "source": []
  }
 ],
 "metadata": {
  "kernelspec": {
   "display_name": "Python 3",
   "language": "python",
   "name": "python3"
  },
  "language_info": {
   "codemirror_mode": {
    "name": "ipython",
    "version": 3
   },
   "file_extension": ".py",
   "mimetype": "text/x-python",
   "name": "python",
   "nbconvert_exporter": "python",
   "pygments_lexer": "ipython3",
   "version": "3.6.5"
  }
 },
 "nbformat": 4,
 "nbformat_minor": 2
}
