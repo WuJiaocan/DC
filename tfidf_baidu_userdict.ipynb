{
 "cells": [
  {
   "cell_type": "markdown",
   "metadata": {},
   "source": [
    "### 调用百度API"
   ]
  },
  {
   "cell_type": "code",
   "execution_count": 5,
   "metadata": {},
   "outputs": [],
   "source": [
    "from aip import AipNlp\n",
    "\n",
    "APP_ID = '************'\n",
    "API_KEY = '*******************'\n",
    "SECRET_KEY = '***************************'\n",
    "\n",
    "client = AipNlp(APP_ID, API_KEY, SECRET_KEY)"
   ]
  },
  {
   "cell_type": "markdown",
   "metadata": {},
   "source": [
    "### 读取数据"
   ]
  },
  {
   "cell_type": "code",
   "execution_count": 1,
   "metadata": {},
   "outputs": [
    {
     "name": "stdout",
     "output_type": "stream",
     "text": [
      "108295\n",
      "108295\n"
     ]
    }
   ],
   "source": [
    "count = 0\n",
    "alldata = []\n",
    "with open(\"./all_docs.txt\", \"r\", encoding=\"utf-8\") as data:\n",
    "    for line in data:\n",
    "        line = line.strip()\n",
    "        alldata.append(line)\n",
    "        count += 1 \n",
    "print(count)\n",
    "print(len(alldata))"
   ]
  },
  {
   "cell_type": "code",
   "execution_count": 2,
   "metadata": {},
   "outputs": [
    {
     "name": "stdout",
     "output_type": "stream",
     "text": [
      "108295\n"
     ]
    }
   ],
   "source": [
    "'''\n",
    "    只读取训练集的title\n",
    "'''\n",
    "train_title_list = []\n",
    "for line in alldata:\n",
    "    line = line.strip()\n",
    "    if len(line.split(\"\\001\")) == 3:\n",
    "        title = line.split(\"\\001\")[1]\n",
    "        train_title_list.append(title)\n",
    "print(len(train_title_list))"
   ]
  },
  {
   "cell_type": "code",
   "execution_count": 3,
   "metadata": {},
   "outputs": [],
   "source": [
    "train_id_list = []\n",
    "train_title_content_list = []\n",
    "train_dict = {}  # key = id, value = title+\"。\"+content\n",
    "for line in alldata:\n",
    "    line = line.strip()\n",
    "    if len(line.split(\"\\001\")) == 3:\n",
    "        ids = line.split(\"\\001\")[0]\n",
    "        title_content = line.split(\"\\001\")[1] + \"。\" + line.split(\"\\001\")[2]\n",
    "        \n",
    "        train_id_list.append(ids)\n",
    "        train_title_content_list.append(title_content)\n",
    "        \n",
    "        train_dict[ids] = title_content"
   ]
  },
  {
   "cell_type": "code",
   "execution_count": 4,
   "metadata": {},
   "outputs": [
    {
     "name": "stdout",
     "output_type": "stream",
     "text": [
      "108295\n",
      "108295\n",
      "108295\n"
     ]
    }
   ],
   "source": [
    "print(len(train_id_list))\n",
    "print(len(train_title_content_list))\n",
    "print(len(train_dict))"
   ]
  },
  {
   "cell_type": "markdown",
   "metadata": {},
   "source": [
    "### 提取title里《》中的内容，为下一版添加自定义分词做准备"
   ]
  },
  {
   "cell_type": "code",
   "execution_count": 68,
   "metadata": {},
   "outputs": [],
   "source": [
    "'''\n",
    "    自定义词典：\n",
    "        ① 提取title中的《》中的内容    \n",
    "'''\n",
    "\n",
    "import re\n",
    "\n",
    "results = []\n",
    "tmp = []\n",
    "with open(\"./user_dict_title.txt\", \"w\", encoding=\"utf-8\") as title_data:\n",
    "    for count, title in enumerate(train_title_list):\n",
    "        result = ' '.join(re.findall('\\《(.*?)\\》', title))\n",
    "        if result:\n",
    "            results.append(result)       # 16278\n",
    "\n",
    "    for words in results:   # 4746\n",
    "        for word in words.split(\" \"):\n",
    "            if word not in tmp: # 记录已写进的《》,防止重复\n",
    "                title_data.write(word + \"\\n\")\n",
    "                tmp.append(word)"
   ]
  },
  {
   "cell_type": "markdown",
   "metadata": {},
   "source": [
    "### 转换自定义分词的编码为gbk，上传到百度"
   ]
  },
  {
   "cell_type": "code",
   "execution_count": 71,
   "metadata": {},
   "outputs": [],
   "source": [
    "with open(\"./user_dict_title.txt\", \"r\", encoding=\"utf-8\") as data, open(\"./user_dict_title_gbk.txt\", \"w\", encoding=\"GBK\") as new_data:\n",
    "    for line in data:\n",
    "        line = line.encode('gb2312', 'ignore').decode('gb2312').encode('gbk', 'ignore').decode('gbk').strip()\n",
    "        new_data.write(line + \"\\n\")   "
   ]
  },
  {
   "cell_type": "markdown",
   "metadata": {},
   "source": [
    "#### 单独获取分词的结果，重复5次，加大现有结果中title的权重，已上传自定义词典"
   ]
  },
  {
   "cell_type": "code",
   "execution_count": 73,
   "metadata": {},
   "outputs": [
    {
     "name": "stdout",
     "output_type": "stream",
     "text": [
      "'NoneType' object is not iterable\n",
      "4227\n"
     ]
    }
   ],
   "source": [
    "train_results = []\n",
    "for num, line in enumerate(train_title_content_list[0:10000]):\n",
    "    try:\n",
    "        line = line.encode('gb2312', 'ignore').decode('gb2312').encode('gbk', 'ignore').decode('gbk')\n",
    "        result = client.lexerCustom(line)\n",
    "        if result:\n",
    "            cut_words = [item.get(\"item\") for item in result.get(\"items\")]\n",
    "            train_results.append(\" \".join(cut_words))\n",
    "        else:train_results\n",
    "            print(num)\n",
    "            print(\"分词失败！\")\n",
    "    except Exception as e:\n",
    "        print(e)\n",
    "        print(num)"
   ]
  },
  {
   "cell_type": "code",
   "execution_count": 81,
   "metadata": {},
   "outputs": [
    {
     "data": {
      "text/plain": [
       "'“后来的我们”4天票房破10亿，登上华语影史最最最最导演。小龙女拍视频认成龙是自己爸爸网易娱乐4月27日报道&nbsp;据香港媒体报道，吴绮莉女儿吴卓林与女友Andi与加拿大“寻爸”，录制视频短片显示为本月24日，该片更火速在网上疯传。原来Andi同日在网上平台上传了一段1分49秒的“求助”片段，视频中小龙女吴卓林和女友Andi面容憔悴，吴卓林在视频中表示，自己是JackieChan（成龙）的女儿，又叫大家转发片段，在走投无路下，小龙女终于公开认成龙为自己老爸。吴卓林在视频中表示拍片是想关心她的人知道发生什么事，她又说，“我们的爱比你们想像更强壮，但我们也感到疲累。没有人能帮到我们，包括我所认识的人、家人、朋友及政府机构”。她在网上平台又留言自爆患有创伤后压力症候群（PTSD）。吴卓林称自己曾报警，去过一个慈善机构，也去过医院和食物银行：“我们已经找过警察，去过医院、食物银行、LGBTQ庇护中心、但全部都不理我们。”吴卓林更指有人硬要将她与女友分开，更情绪激动：“两个相爱的人现在被人拆散，我不懂（为什么）。我爱她，我爱你（对女友说）。”说到此处更深情望向Andi表示爱她，Andi立马向吴卓林献吻。影片中，吴卓林与女友面容憔悴，看起来非常疲累，她在片中自称是成龙的女儿，两人已经在天桥下睡了近1个月，随后她的女友接着表示，自己已经找了所有的亲戚朋友，每个人都要她们去寻求庇护所的帮忙。但两人似乎非常抗拒到庇护所，称如果两人到了任何一个政府部门，或非政府组织都会被分开。'"
      ]
     },
     "execution_count": 81,
     "metadata": {},
     "output_type": "execute_result"
    }
   ],
   "source": [
    "train_title_content_list[20]"
   ]
  },
  {
   "cell_type": "code",
   "execution_count": null,
   "metadata": {},
   "outputs": [],
   "source": []
  },
  {
   "cell_type": "code",
   "execution_count": null,
   "metadata": {},
   "outputs": [],
   "source": []
  },
  {
   "cell_type": "code",
   "execution_count": null,
   "metadata": {},
   "outputs": [],
   "source": []
  },
  {
   "cell_type": "code",
   "execution_count": null,
   "metadata": {},
   "outputs": [],
   "source": []
  },
  {
   "cell_type": "code",
   "execution_count": null,
   "metadata": {},
   "outputs": [],
   "source": []
  },
  {
   "cell_type": "code",
   "execution_count": null,
   "metadata": {},
   "outputs": [],
   "source": []
  },
  {
   "cell_type": "code",
   "execution_count": null,
   "metadata": {},
   "outputs": [],
   "source": []
  },
  {
   "cell_type": "code",
   "execution_count": null,
   "metadata": {},
   "outputs": [],
   "source": []
  },
  {
   "cell_type": "code",
   "execution_count": null,
   "metadata": {},
   "outputs": [],
   "source": []
  },
  {
   "cell_type": "code",
   "execution_count": null,
   "metadata": {},
   "outputs": [],
   "source": []
  },
  {
   "cell_type": "code",
   "execution_count": null,
   "metadata": {},
   "outputs": [],
   "source": []
  }
 ],
 "metadata": {
  "kernelspec": {
   "display_name": "Python 3",
   "language": "python",
   "name": "python3"
  },
  "language_info": {
   "codemirror_mode": {
    "name": "ipython",
    "version": 3
   },
   "file_extension": ".py",
   "mimetype": "text/x-python",
   "name": "python",
   "nbconvert_exporter": "python",
   "pygments_lexer": "ipython3",
   "version": "3.6.5"
  }
 },
 "nbformat": 4,
 "nbformat_minor": 2
}
